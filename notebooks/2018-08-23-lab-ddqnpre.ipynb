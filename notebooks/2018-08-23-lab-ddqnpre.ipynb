{
 "cells": [
  {
   "cell_type": "markdown",
   "metadata": {},
   "source": [
    "# Project 1: Navigation\n",
    "### Test 3 - DDQN model with Prioritized Experience Replay\n",
    "\n",
    "<sub>Uirá Caiado. August 23, 2018<sub>\n",
    "\n",
    "#### Abstract\n",
    "\n",
    "\n",
    "_In this notebook, I will use the Unity ML-Agents environment to train a DDQN model with PER for the first project of the [Deep Reinforcement Learning Nanodegree](https://www.udacity.com/course/deep-reinforcement-learning-nanodegree--nd893)._"
   ]
  },
  {
   "cell_type": "markdown",
   "metadata": {},
   "source": [
    "## 1. What we are going to test\n",
    "\n",
    "Quoting the seminal [Prioritized Experience Replay](https://arxiv.org/abs/1511.05952) paper, from the Deep Mind team, experience replay lets online reinforcement learning agents remember and reuse experiences from the past. Bellow, I am going to test my implementation of the PER buffer in conjunction to Double DQN. Thus, let's begin by checking the environment where I am going to run these tests."
   ]
  },
  {
   "cell_type": "code",
   "execution_count": 2,
   "metadata": {
    "collapsed": false
   },
   "outputs": [
    {
     "name": "stdout",
     "output_type": "stream",
     "text": [
      "The version_information extension is already loaded. To reload it, use:\n",
      "  %reload_ext version_information\n"
     ]
    },
    {
     "data": {
      "application/json": {
       "Software versions": [
        {
         "module": "Python",
         "version": "3.6.6 64bit [GCC 7.2.0]"
        },
        {
         "module": "IPython",
         "version": "6.5.0"
        },
        {
         "module": "OS",
         "version": "Linux 4.4.0 1060 aws x86_64 with debian stretch sid"
        },
        {
         "module": "numpy",
         "version": "1.15.1"
        },
        {
         "module": "unityagents",
         "version": "0.4.0"
        },
        {
         "module": "torch",
         "version": "0.4.0"
        },
        {
         "module": "matplotlib",
         "version": "2.2.3"
        },
        {
         "module": "pandas",
         "version": "0.23.4"
        },
        {
         "module": "gym",
         "version": "0.10.5"
        }
       ]
      },
      "text/html": [
       "<table><tr><th>Software</th><th>Version</th></tr><tr><td>Python</td><td>3.6.6 64bit [GCC 7.2.0]</td></tr><tr><td>IPython</td><td>6.5.0</td></tr><tr><td>OS</td><td>Linux 4.4.0 1060 aws x86_64 with debian stretch sid</td></tr><tr><td>numpy</td><td>1.15.1</td></tr><tr><td>unityagents</td><td>0.4.0</td></tr><tr><td>torch</td><td>0.4.0</td></tr><tr><td>matplotlib</td><td>2.2.3</td></tr><tr><td>pandas</td><td>0.23.4</td></tr><tr><td>gym</td><td>0.10.5</td></tr><tr><td colspan='2'>Fri Aug 24 03:54:44 2018 UTC</td></tr></table>"
      ],
      "text/latex": [
       "\\begin{tabular}{|l|l|}\\hline\n",
       "{\\bf Software} & {\\bf Version} \\\\ \\hline\\hline\n",
       "Python & 3.6.6 64bit [GCC 7.2.0] \\\\ \\hline\n",
       "IPython & 6.5.0 \\\\ \\hline\n",
       "OS & Linux 4.4.0 1060 aws x86\\_64 with debian stretch sid \\\\ \\hline\n",
       "numpy & 1.15.1 \\\\ \\hline\n",
       "unityagents & 0.4.0 \\\\ \\hline\n",
       "torch & 0.4.0 \\\\ \\hline\n",
       "matplotlib & 2.2.3 \\\\ \\hline\n",
       "pandas & 0.23.4 \\\\ \\hline\n",
       "gym & 0.10.5 \\\\ \\hline\n",
       "\\hline \\multicolumn{2}{|l|}{Fri Aug 24 03:54:44 2018 UTC} \\\\ \\hline\n",
       "\\end{tabular}\n"
      ],
      "text/plain": [
       "Software versions\n",
       "Python 3.6.6 64bit [GCC 7.2.0]\n",
       "IPython 6.5.0\n",
       "OS Linux 4.4.0 1060 aws x86_64 with debian stretch sid\n",
       "numpy 1.15.1\n",
       "unityagents 0.4.0\n",
       "torch 0.4.0\n",
       "matplotlib 2.2.3\n",
       "pandas 0.23.4\n",
       "gym 0.10.5\n",
       "Fri Aug 24 03:54:44 2018 UTC"
      ]
     },
     "execution_count": 2,
     "metadata": {},
     "output_type": "execute_result"
    }
   ],
   "source": [
    "%load_ext version_information\n",
    "%version_information numpy, unityagents, torch, matplotlib, pandas, gym"
   ]
  },
  {
   "cell_type": "markdown",
   "metadata": {},
   "source": [
    "Now, let's define some meta variables to use in this notebook"
   ]
  },
  {
   "cell_type": "code",
   "execution_count": 10,
   "metadata": {
    "collapsed": false
   },
   "outputs": [],
   "source": [
    "import os\n",
    "fig_prefix = 'figures/2018-08-23-'\n",
    "data_prefix = '../data/2018-08-23-'\n",
    "s_currentpath = os.getcwd()"
   ]
  },
  {
   "cell_type": "markdown",
   "metadata": {},
   "source": [
    "Also, let's import some of the necessary packages for this experiment."
   ]
  },
  {
   "cell_type": "code",
   "execution_count": 4,
   "metadata": {
    "collapsed": false
   },
   "outputs": [
    {
     "data": {
      "text/html": [
       "<style>\n",
       "    @font-face {\n",
       "        font-family: \"Computer Modern\";\n",
       "        src: url('/notebooks/style/cmunss.otf');\n",
       "    }\n",
       "    @font-face {\n",
       "        font-family: \"Computer Modern\";\n",
       "        font-weight: bold;\n",
       "        src: url('/notebooks/style/cmunsx.otf');\n",
       "    }\n",
       "    @font-face {\n",
       "        font-family: \"Computer Modern\";\n",
       "        font-style: oblique;\n",
       "        src: url('/notebooks/style/cmunsi.otf');\n",
       "    }\n",
       "    @font-face {\n",
       "        font-family: \"Computer Modern\";\n",
       "        font-weight: bold;\n",
       "        font-style: oblique;\n",
       "        src: url('/notebooks/style/cmunso.otf');\n",
       "    }\n",
       "\n",
       "    div.cell{\n",
       "        width:800px;\n",
       "        margin-left:16% !important;\n",
       "        margin-right:auto;\n",
       "    }\n",
       "    h1 {\n",
       "        font-family: Helvetica, serif;\n",
       "    }\n",
       "    h4{\n",
       "        margin-top:12px;\n",
       "        margin-bottom: 3px;\n",
       "       }\n",
       "    div.text_cell_render{\n",
       "        font-family: Computer Modern, \"Helvetica Neue\", Arial, Helvetica, Geneva, sans-serif;\n",
       "        line-height: 145%;\n",
       "        font-size: 130%;\n",
       "        width:800px;\n",
       "        margin-left:auto;\n",
       "        margin-right:auto;\n",
       "    }\n",
       "    .CodeMirror{\n",
       "            font-family: \"Source Code Pro\", source-code-pro,Consolas, monospace;\n",
       "    }\n",
       "    .prompt{\n",
       "        display: None;\n",
       "    }\n",
       "    .text_cell_render h5 {\n",
       "        font-weight: 300;\n",
       "        font-size: 22pt;\n",
       "        color: #4057A1;\n",
       "        font-style: italic;\n",
       "        margin-bottom: .5em;\n",
       "        margin-top: 0.5em;\n",
       "        display: block;\n",
       "    }\n",
       "\n",
       "    .warning{\n",
       "        color: rgb( 240, 20, 20 )\n",
       "        }\n",
       "</style>\n",
       "\n",
       "\n",
       "\n",
       "<style>\n",
       "    table {\n",
       "        overflow:hidden;\n",
       "        font-family: Computer Modern, \"Helvetica Neue\", Arial, Helvetica, Geneva, sans-serif;\n",
       "        font-size: 12px;\n",
       "        margin: 10px;\n",
       "        /*width: 480px;*/\n",
       "        text-align: left;\n",
       "        border-collapse: collapse;\n",
       "        border: 1px solid #d3d3d3;\n",
       "        -moz-border-radius:5px; FF1+;\n",
       "        -webkit-border-radius:5px; Saf3-4;\n",
       "        border-radius:5px;\n",
       "        -moz-box-shadow: 0 0 4px rgba(0, 0, 0, 0.01);\n",
       "    }\n",
       "    th\n",
       "    {\n",
       "        padding: 12px 17px 12px 17px;\n",
       "        font-weight: normal;\n",
       "        font-size: 14px;\n",
       "        border-bottom: 1px dashed #69c;\n",
       "    }\n",
       "\n",
       "    td\n",
       "    {\n",
       "        padding: 7px 17px 7px 17px;\n",
       "\n",
       "    }\n",
       "\n",
       "    tbody tr:hover th\n",
       "    {\n",
       "\n",
       "        background:  #E9E9E9;\n",
       "    }\n",
       "\n",
       "    tbody tr:hover td\n",
       "    {\n",
       "\n",
       "        background:  #E9E9E9;\n",
       "    }\n",
       "\n",
       "</style>\n",
       "\n",
       "<script>\n",
       "    MathJax.Hub.Config({\n",
       "                        TeX: {\n",
       "                           extensions: [\"AMSmath.js\"]\n",
       "                           },\n",
       "                tex2jax: {\n",
       "                    inlineMath: [ ['$','$'], [\"\\\\(\",\"\\\\)\"] ],\n",
       "                    displayMath: [ ['$$','$$'], [\"\\\\[\",\"\\\\]\"] ]\n",
       "                },\n",
       "                displayAlign: 'center', // Change this to 'center' to center equations.\n",
       "                \"HTML-CSS\": {\n",
       "                    styles: {'.MathJax_Display': {\"margin\": 4}}\n",
       "                }\n",
       "        });\n",
       "</script>\n"
      ],
      "text/plain": [
       "<IPython.core.display.HTML object>"
      ]
     },
     "execution_count": 4,
     "metadata": {},
     "output_type": "execute_result"
    }
   ],
   "source": [
    "from unityagents import UnityEnvironment\n",
    "import sys\n",
    "import os\n",
    "sys.path.append(\"../\")  # include the root directory as the main\n",
    "import eda\n",
    "import pandas as pd\n",
    "import numpy as np"
   ]
  },
  {
   "cell_type": "markdown",
   "metadata": {},
   "source": [
    "## 2. Training the agent\n",
    "\n",
    "The environment used for this project is the Udacity version of the Banana Collector environment, from [Unity](https://youtu.be/heVMs3t9qSk). The goal of the agent is to collect as many yellow bananas as possible while avoiding blue bananas. Bellow, we are going to start this environment."
   ]
  },
  {
   "cell_type": "code",
   "execution_count": 5,
   "metadata": {
    "collapsed": false
   },
   "outputs": [
    {
     "name": "stderr",
     "output_type": "stream",
     "text": [
      "INFO:unityagents:\n",
      "'Academy' started successfully!\n",
      "Unity Academy name: Academy\n",
      "        Number of Brains: 1\n",
      "        Number of External Brains : 1\n",
      "        Lesson number : 0\n",
      "        Reset Parameters :\n",
      "\t\t\n",
      "Unity brain name: BananaBrain\n",
      "        Number of Visual Observations (per agent): 0\n",
      "        Vector Observation space type: continuous\n",
      "        Vector Observation space size (per agent): 37\n",
      "        Number of stacked Vector Observation: 1\n",
      "        Vector Action space type: discrete\n",
      "        Vector Action space size (per agent): 4\n",
      "        Vector Action descriptions: , , , \n"
     ]
    }
   ],
   "source": [
    "env = UnityEnvironment(file_name=\"../Banana_Linux_NoVis/Banana.x86_64\")"
   ]
  },
  {
   "cell_type": "markdown",
   "metadata": {},
   "source": [
    "Unity Environments contain brains which are responsible for deciding the actions of their associated agents. Here we check for the first brain available, and set it as the default brain we will be controlling from Python."
   ]
  },
  {
   "cell_type": "code",
   "execution_count": 6,
   "metadata": {
    "collapsed": true
   },
   "outputs": [],
   "source": [
    "# get the default brain\n",
    "brain_name = env.brain_names[0]\n",
    "brain = env.brains[brain_name]"
   ]
  },
  {
   "cell_type": "markdown",
   "metadata": {},
   "source": [
    "Now, we are going to collect some basic information about the environment."
   ]
  },
  {
   "cell_type": "code",
   "execution_count": 7,
   "metadata": {
    "collapsed": false
   },
   "outputs": [],
   "source": [
    "# reset the environment\n",
    "env_info = env.reset(train_mode=True)[brain_name]\n",
    "\n",
    "# number of actions\n",
    "action_size = brain.vector_action_space_size\n",
    "\n",
    "# examine the state space \n",
    "state = env_info.vector_observations[0]\n",
    "state_size = len(state)"
   ]
  },
  {
   "cell_type": "markdown",
   "metadata": {},
   "source": [
    "And finally, we are going to train the model. We will consider that this environment is solved if the agent is able to receive an average reward (over 100 episodes) of at least +13."
   ]
  },
  {
   "cell_type": "code",
   "execution_count": 8,
   "metadata": {
    "collapsed": false
   },
   "outputs": [
    {
     "name": "stdout",
     "output_type": "stream",
     "text": [
      "Episode 100\tAverage Score: 0.44\n",
      "Episode 200\tAverage Score: 2.84\n",
      "Episode 300\tAverage Score: 6.03\n",
      "Episode 400\tAverage Score: 9.25\n",
      "Episode 500\tAverage Score: 11.74\n",
      "Episode 562\tAverage Score: 13.06\n",
      "Environment solved in 562 episodes!\tAverage Score: 13.06\n",
      "CPU times: user 16min 37s, sys: 20.7 s, total: 16min 58s\n",
      "Wall time: 19min 18s\n"
     ]
    }
   ],
   "source": [
    "%%time\n",
    "\n",
    "import gym\n",
    "import pickle\n",
    "import random\n",
    "import torch\n",
    "import numpy as np\n",
    "from collections import deque\n",
    "from drlnd.dqn_agent import DQNAgent, DDQNAgent, DDQNPREAgent\n",
    "\n",
    "n_episodes = 2000\n",
    "eps_start = 1.\n",
    "eps_end=0.01\n",
    "eps_decay=0.995\n",
    "max_t = 1000\n",
    "s_model = 'ddqnpre'\n",
    "\n",
    "agent = DDQNPREAgent(state_size=state_size, action_size=action_size, seed=0)\n",
    "\n",
    "scores = []                        # list containing scores from each episode\n",
    "scores_std = []                    # List containing the std dev of the last 100 episodes\n",
    "scores_avg = []                    # List containing the mean of the last 100 episodes\n",
    "scores_window = deque(maxlen=100)  # last 100 scores\n",
    "eps = eps_start                    # initialize epsilon\n",
    "\n",
    "for i_episode in range(1, n_episodes+1):\n",
    "    env_info = env.reset(train_mode=True)[brain_name] # reset the environment\n",
    "    state = env_info.vector_observations[0]            # get the current state\n",
    "    score = 0                                          # initialize the score\n",
    "    for t in range(max_t):\n",
    "        # action = np.random.randint(action_size)        # select an action\n",
    "        action = agent.act(state, eps)\n",
    "        env_info = env.step(action)[brain_name]        # send the action to the environment\n",
    "        next_state = env_info.vector_observations[0]   # get the next state\n",
    "        reward = env_info.rewards[0]                   # get the reward\n",
    "        done = env_info.local_done[0]                  # see if episode has finished\n",
    "        agent.step(state, action, reward, next_state, done)\n",
    "        score += reward                                # update the score\n",
    "        state = next_state                             # roll over the state to next time step\n",
    "        if done:                                       # exit loop if episode finished\n",
    "            break\n",
    "    scores_window.append(score)       # save most recent score\n",
    "    scores.append(score)              # save most recent score\n",
    "    scores_std.append(np.std(scores_window)) # save most recent std dev\n",
    "    scores_avg.append(np.mean(scores_window)) # save most recent std dev\n",
    "    eps = max(eps_end, eps_decay*eps) # decrease epsilon\n",
    "    print('\\rEpisode {}\\tAverage Score: {:.2f}'.format(i_episode, np.mean(scores_window)), end=\"\")\n",
    "    if i_episode % 100 == 0:\n",
    "        print('\\rEpisode {}\\tAverage Score: {:.2f}'.format(i_episode, np.mean(scores_window)))\n",
    "    if np.mean(scores_window)>=13.0:\n",
    "        s_msg = '\\nEnvironment solved in {:d} episodes!\\tAverage Score: {:.2f}'\n",
    "        print(s_msg.format(i_episode, np.mean(scores_window)))\n",
    "        torch.save(agent.qnet.state_dict(), '%scheckpoint_%s.pth' % (data_prefix, s_model))\n",
    "        break\n",
    "        \n",
    "# save data to use latter\n",
    "d_data = {'episodes': i_episode,\n",
    "          'scores': scores,\n",
    "          'scores_std': scores_std,\n",
    "          'scores_avg': scores_avg,\n",
    "          'scores_window': scores_window}\n",
    "pickle.dump(d_data, open('%ssim-data-%s.data' % (data_prefix, s_model), 'wb'))"
   ]
  },
  {
   "cell_type": "markdown",
   "metadata": {},
   "source": [
    "## 3. Results\n",
    "\n",
    "The agent using Double DQN with Prioritized Experience Replay was able to solve the Banana Collector environment in 562 episodes of 1000 steps, each."
   ]
  },
  {
   "cell_type": "code",
   "execution_count": 72,
   "metadata": {
    "collapsed": false
   },
   "outputs": [
    {
     "name": "stdout",
     "output_type": "stream",
     "text": [
      "Environment solved in 562 episodes!\tAverage Score: 13.06 +- 3.47\n"
     ]
    }
   ],
   "source": [
    "import pickle\n",
    "\n",
    "d_data = pickle.load(open('../data/2018-08-23-sim-data-ddqnpre.data', 'rb'))\n",
    "s_msg = 'Environment solved in {:d} episodes!\\tAverage Score: {:.2f} +- {:.2f}'\n",
    "print(s_msg.format(d_data['episodes'], np.mean(d_data['scores_window']), np.std(d_data['scores_window'])))"
   ]
  },
  {
   "cell_type": "markdown",
   "metadata": {},
   "source": [
    "Now, let's plot the rewards per episode. In the right panel, we will plot the rolling average score over 100 episodes $\\pm$ its standard deviation, as well as the goal of this project (13+ on average over the last 100 episodes)."
   ]
  },
  {
   "cell_type": "code",
   "execution_count": 55,
   "metadata": {
    "collapsed": false
   },
   "outputs": [
    {
     "data": {
      "image/png": "[encoded data removed]",
      "text/plain": [
       "<Figure size 864x360 with 2 Axes>"
      ]
     },
     "metadata": {},
     "output_type": "display_data"
    }
   ],
   "source": [
    "import matplotlib.pyplot as plt\n",
    "import seaborn as sns\n",
    "import numpy as np\n",
    "\n",
    "%matplotlib inline\n",
    "\n",
    "#recover data\n",
    "na_raw = np.array(d_data['scores'])\n",
    "na_mu = np.array(d_data['scores_avg'])\n",
    "na_sigma = np.array(d_data['scores_std'])\n",
    "\n",
    "# plot the scores\n",
    "f, (ax1, ax2) = plt.subplots(1, 2, figsize=(12, 5), sharex=True, sharey=True)\n",
    "\n",
    "# plot the sores by episode\n",
    "ax1.plot(np.arange(len(na_raw)), na_raw)\n",
    "ax1.set_xlim(0, len(na_raw)+1)\n",
    "ax1.set_ylabel('Score')\n",
    "ax1.set_xlabel('Episode #')\n",
    "ax1.set_title('raw scores')\n",
    "\n",
    "# plot the average of these scores\n",
    "ax2.axhline(y=13., xmin=0.0, xmax=1.0, color='r', linestyle='--', linewidth=0.7, alpha=0.9)\n",
    "ax2.plot(np.arange(len(na_mu)), na_mu)\n",
    "ax2.fill_between(np.arange(len(na_mu)), na_mu+na_sigma, na_mu-na_sigma, facecolor='gray', alpha=0.1)\n",
    "ax2.set_ylabel('Average Score')\n",
    "ax2.set_xlabel('Episode #')\n",
    "ax2.set_title('average scores')\n",
    "\n",
    "f.tight_layout()"
   ]
  },
  {
   "cell_type": "code",
   "execution_count": 56,
   "metadata": {
    "collapsed": true
   },
   "outputs": [],
   "source": [
    "env.close()"
   ]
  },
  {
   "cell_type": "markdown",
   "metadata": {},
   "source": [
    "## 4. Conclusion\n",
    "\n",
    "\n",
    "This was the best implementation so far.... TODO"
   ]
  },
  {
   "cell_type": "code",
   "execution_count": null,
   "metadata": {
    "collapsed": true
   },
   "outputs": [],
   "source": []
  }
 ],
 "metadata": {
  "kernelspec": {
   "display_name": "drlnd",
   "language": "python",
   "name": "drlnd"
  },
  "language_info": {
   "codemirror_mode": {
    "name": "ipython",
    "version": 3
   },
   "file_extension": ".py",
   "mimetype": "text/x-python",
   "name": "python",
   "nbconvert_exporter": "python",
   "pygments_lexer": "ipython3",
   "version": "3.6.6"
  }
 },
 "nbformat": 4,
 "nbformat_minor": 2
}
